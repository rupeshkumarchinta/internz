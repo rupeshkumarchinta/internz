{
  "metadata": {
    "kernelspec": {
      "language": "python",
      "display_name": "Python 3",
      "name": "python3"
    },
    "language_info": {
      "pygments_lexer": "ipython3",
      "nbconvert_exporter": "python",
      "version": "3.6.4",
      "file_extension": ".py",
      "codemirror_mode": {
        "name": "ipython",
        "version": 3
      },
      "name": "python",
      "mimetype": "text/x-python"
    },
    "colab": {
      "name": "notebook8c60456051",
      "provenance": [],
      "include_colab_link": true
    }
  },
  "nbformat_minor": 0,
  "nbformat": 4,
  "cells": [
    {
      "cell_type": "markdown",
      "metadata": {
        "id": "view-in-github",
        "colab_type": "text"
      },
      "source": [
        "<a href=\"https://colab.research.google.com/github/rupeshkumarchinta/internz/blob/main/notebook8c60456051.ipynb\" target=\"_parent\"><img src=\"https://colab.research.google.com/assets/colab-badge.svg\" alt=\"Open In Colab\"/></a>"
      ]
    },
    {
      "cell_type": "code",
      "source": [
        "# import treeFuctions as tf\n",
        "import numpy as np\n",
        "\n",
        "import pandas as pd\n",
        "from sklearn import tree\n",
        "from sklearn.tree import DecisionTreeClassifier\n",
        "from sklearn import metrics\n",
        "dataset = pd.read_csv(\"/kaggle/input/electricity-usage-info-for-a-house-hold/train_dataset.csv\")\n",
        "\n",
        "print(dataset)"
      ],
      "metadata": {
        "_uuid": "8f2839f25d086af736a60e9eeb907d3b93b6e0e5",
        "_cell_guid": "b1076dfc-b9ad-4769-8c92-a6c4dae69d19",
        "execution": {
          "iopub.status.busy": "2023-08-29T14:21:36.25856Z",
          "iopub.execute_input": "2023-08-29T14:21:36.259014Z",
          "iopub.status.idle": "2023-08-29T14:21:36.409856Z",
          "shell.execute_reply.started": "2023-08-29T14:21:36.258983Z",
          "shell.execute_reply": "2023-08-29T14:21:36.408481Z"
        },
        "trusted": true,
        "id": "_oP4Ve7ZL4t0"
      },
      "execution_count": null,
      "outputs": []
    },
    {
      "cell_type": "code",
      "source": [
        "from sklearn.model_selection import train_test_split\n",
        "import pandas as pd\n",
        "import numpy as np\n",
        "\n",
        "\n",
        "# We specify random seed so that the train and test data set always have the same rows, respectively\n",
        "np.random.seed(0)\n",
        "df_train, df_test = train_test_split(dataset, train_size = 0.6, test_size = 0.4, random_state = 100)\n",
        "\n",
        "\n",
        "\n",
        "#selecting rows , and coloumns\n",
        "# all rows by using : and coloumn1 by 1:2\n",
        "X  = df_train.iloc[1:,1:-1]\n",
        "\n",
        "print(X)\n",
        "\n",
        "y = df_train.iloc[1:,1:-1]\n",
        "\n",
        "print(y)"
      ],
      "metadata": {
        "execution": {
          "iopub.status.busy": "2023-08-29T14:21:39.792696Z",
          "iopub.execute_input": "2023-08-29T14:21:39.793861Z",
          "iopub.status.idle": "2023-08-29T14:21:39.823188Z",
          "shell.execute_reply.started": "2023-08-29T14:21:39.793813Z",
          "shell.execute_reply": "2023-08-29T14:21:39.821794Z"
        },
        "trusted": true,
        "id": "_4AyUAO9L4t1"
      },
      "execution_count": null,
      "outputs": []
    },
    {
      "cell_type": "code",
      "source": [
        "from sklearn.tree import DecisionTreeRegressor     #importing the regressor\n",
        "regressor = DecisionTreeRegressor(random_state=0)  #creating a regressor object for the decision tree\n",
        "X= df_train.iloc[:,1:]\n",
        "y = df_train.iloc[:,1:]\n",
        "X = X.drop([\"MA_X-4\", \"T2M_toc\", \"week_X-4\", \"week_X-3\",'holiday','Holiday_ID'],axis=1) #droping the features that have high VIF values (>5)\n",
        "y =y.drop([\"MA_X-4\", \"T2M_toc\", \"week_X-4\", \"week_X-3\",'holiday','Holiday_ID'],axis=1)\n",
        "regressor.fit(X,y)\n"
      ],
      "metadata": {
        "execution": {
          "iopub.status.busy": "2023-08-29T14:21:44.984725Z",
          "iopub.execute_input": "2023-08-29T14:21:44.985161Z",
          "iopub.status.idle": "2023-08-29T14:21:45.090224Z",
          "shell.execute_reply.started": "2023-08-29T14:21:44.985128Z",
          "shell.execute_reply": "2023-08-29T14:21:45.088817Z"
        },
        "trusted": true,
        "id": "4jEv93KbL4t1"
      },
      "execution_count": null,
      "outputs": []
    },
    {
      "cell_type": "code",
      "source": [
        "from sklearn.tree import DecisionTreeRegressor     #importing the regressor\n",
        "regressor = DecisionTreeRegressor(random_state=0)  #creating a regressor object for the decision tree\n",
        "X= df_train.iloc[:,1:]\n",
        "y = df_train.iloc[:,1:]\n",
        "X = X.drop([\"MA_X-4\", \"T2M_toc\", \"week_X-4\", \"week_X-3\",'holiday','Holiday_ID'],axis=1) #droping the features that have high VIF values (>5)\n",
        "y =y.drop([\"MA_X-4\", \"T2M_toc\", \"week_X-4\", \"week_X-3\",'holiday','Holiday_ID'],axis=1)\n",
        "regressor.fit(X,y)\n"
      ],
      "metadata": {
        "execution": {
          "iopub.status.busy": "2023-08-29T14:21:48.268665Z",
          "iopub.execute_input": "2023-08-29T14:21:48.269122Z",
          "iopub.status.idle": "2023-08-29T14:21:48.392973Z",
          "shell.execute_reply.started": "2023-08-29T14:21:48.26909Z",
          "shell.execute_reply": "2023-08-29T14:21:48.39165Z"
        },
        "trusted": true,
        "id": "Eda6qhe0L4t1"
      },
      "execution_count": null,
      "outputs": []
    },
    {
      "cell_type": "code",
      "source": [
        "import matplotlib.pyplot as plt\n",
        "import numpy as np\n",
        "import csv\n",
        "\n",
        "X= df_train.iloc[:,1:]\n",
        "y = df_train.iloc[:,1:]\n",
        "X = X.drop([\"MA_X-4\", \"T2M_toc\", \"week_X-4\", \"week_X-3\",'holiday','Holiday_ID'],axis=1)\n",
        "y =y.drop([\"MA_X-4\", \"T2M_toc\", \"week_X-4\", \"week_X-3\",'holiday','Holiday_ID'],axis=1)\n",
        "plt.scatter(X,y,color = 'red')\n",
        "plt.plot(X,regressor.predict(X),color = 'blue')\n",
        "plt.title(\"Regression model\")\n",
        "plt.xlabel(\"\")\n",
        "plt.ylabel('')\n",
        "plt.show()"
      ],
      "metadata": {
        "execution": {
          "iopub.status.busy": "2023-08-29T14:21:55.351818Z",
          "iopub.execute_input": "2023-08-29T14:21:55.352207Z",
          "iopub.status.idle": "2023-08-29T14:21:55.929215Z",
          "shell.execute_reply.started": "2023-08-29T14:21:55.352179Z",
          "shell.execute_reply": "2023-08-29T14:21:55.927831Z"
        },
        "trusted": true,
        "id": "qjS8OYThL4t2"
      },
      "execution_count": null,
      "outputs": []
    },
    {
      "cell_type": "code",
      "source": [
        "###       testing the model built using  \"\"DessionTreeRegression\"\"  on testdata set\n",
        "\n",
        "\n",
        "import pandas as pd\n",
        "\n",
        "test = df_test\n",
        "X_new = test.iloc[:,1:]\n",
        "X_new = X_new.drop([\"MA_X-4\", \"T2M_toc\", \"week_X-4\", \"week_X-3\",'holiday','Holiday_ID'],axis =1)\n",
        "y_pred = regressor.predict(X_new)\n",
        "y_pred\n",
        "y = test.iloc[:,1:]\n",
        "y = y.drop([\"MA_X-4\", \"T2M_toc\", \"week_X-4\", \"week_X-3\",'holiday','Holiday_ID'],axis =1)\n",
        "\n",
        "from sklearn.metrics import r2_score\n",
        "r2_score(y_true = y, y_pred = y_pred)"
      ],
      "metadata": {
        "execution": {
          "iopub.status.busy": "2023-08-29T14:21:59.317207Z",
          "iopub.execute_input": "2023-08-29T14:21:59.317636Z",
          "iopub.status.idle": "2023-08-29T14:21:59.346866Z",
          "shell.execute_reply.started": "2023-08-29T14:21:59.317603Z",
          "shell.execute_reply": "2023-08-29T14:21:59.345371Z"
        },
        "trusted": true,
        "id": "MwM_GmH9L4t2"
      },
      "execution_count": null,
      "outputs": []
    },
    {
      "cell_type": "code",
      "source": [
        "X_test = df_test.iloc[:,1:]\n",
        "X_test1 = X_test.drop([\"MA_X-4\", \"T2M_toc\", \"week_X-4\", \"week_X-3\",'holiday','Holiday_ID'],axis=1)\n",
        "y_test = df_test.iloc[:,1:]\n",
        "y_test1 = y_test.drop([\"MA_X-4\", \"T2M_toc\", \"week_X-4\", \"week_X-3\",'holiday','Holiday_ID'],axis = 1)\n",
        "\n"
      ],
      "metadata": {
        "execution": {
          "iopub.status.busy": "2023-08-29T14:22:02.384338Z",
          "iopub.execute_input": "2023-08-29T14:22:02.384752Z",
          "iopub.status.idle": "2023-08-29T14:22:02.396781Z",
          "shell.execute_reply.started": "2023-08-29T14:22:02.384722Z",
          "shell.execute_reply": "2023-08-29T14:22:02.39533Z"
        },
        "trusted": true,
        "id": "DcdMdY_5L4t2"
      },
      "execution_count": null,
      "outputs": []
    },
    {
      "cell_type": "code",
      "source": [
        "from sklearn.tree import DecisionTreeRegressor     #importing the regressor\n",
        "regressor = DecisionTreeRegressor(random_state=0)  #creating a regressor object for the decision tree\n",
        "X= df_train.iloc[:,1:]\n",
        "y = df_train.iloc[:,1:]\n",
        "X = X.drop([\"MA_X-4\", \"T2M_toc\", \"week_X-4\", \"week_X-3\",'holiday','Holiday_ID'],axis=1) #droping the features that have high VIF values (>5)\n",
        "y =y.drop([\"MA_X-4\", \"T2M_toc\", \"week_X-4\", \"week_X-3\",'holiday','Holiday_ID'],axis=1)\n",
        "regressor.fit(X,y)\n"
      ],
      "metadata": {
        "execution": {
          "iopub.status.busy": "2023-08-29T14:22:05.051802Z",
          "iopub.execute_input": "2023-08-29T14:22:05.052227Z",
          "iopub.status.idle": "2023-08-29T14:22:05.158088Z",
          "shell.execute_reply.started": "2023-08-29T14:22:05.052194Z",
          "shell.execute_reply": "2023-08-29T14:22:05.156753Z"
        },
        "trusted": true,
        "id": "7-VRGjaPL4t2"
      },
      "execution_count": null,
      "outputs": []
    },
    {
      "cell_type": "code",
      "source": [
        "import matplotlib.pyplot as plt\n",
        "import numpy as np\n",
        "import csv\n",
        "\n",
        "X= df_train.iloc[:,1:]\n",
        "y = df_train.iloc[:,1:]\n",
        "X = X.drop([\"MA_X-4\", \"T2M_toc\", \"week_X-4\", \"week_X-3\",'holiday','Holiday_ID'],axis=1)\n",
        "y =y.drop([\"MA_X-4\", \"T2M_toc\", \"week_X-4\", \"week_X-3\",'holiday','Holiday_ID'],axis=1)\n",
        "plt.scatter(X,y,color = 'red')\n",
        "plt.plot(X,regressor.predict(X),color = 'blue')\n",
        "plt.title(\"Regression model\")\n",
        "plt.xlabel(\"\")\n",
        "plt.ylabel('')\n",
        "plt.show()"
      ],
      "metadata": {
        "execution": {
          "iopub.status.busy": "2023-08-29T14:22:07.87751Z",
          "iopub.execute_input": "2023-08-29T14:22:07.877967Z",
          "iopub.status.idle": "2023-08-29T14:22:08.46974Z",
          "shell.execute_reply.started": "2023-08-29T14:22:07.877934Z",
          "shell.execute_reply": "2023-08-29T14:22:08.468273Z"
        },
        "trusted": true,
        "id": "mXiTLLQPL4t2"
      },
      "execution_count": null,
      "outputs": []
    },
    {
      "cell_type": "code",
      "source": [
        "###       testing the model built using  \"\"DessionTreeRegression\"\"  on testdata set\n",
        "\n",
        "\n",
        "import pandas as pd\n",
        "\n",
        "test = df_test\n",
        "X_new = test.iloc[:,1:]\n",
        "X_new = X_new.drop([\"MA_X-4\", \"T2M_toc\", \"week_X-4\", \"week_X-3\",'holiday','Holiday_ID'],axis =1)\n",
        "y_pred = regressor.predict(X_new)\n",
        "y_pred\n",
        "y = test.iloc[:,1:]\n",
        "y = y.drop([\"MA_X-4\", \"T2M_toc\", \"week_X-4\", \"week_X-3\",'holiday','Holiday_ID'],axis =1)\n",
        "\n",
        "from sklearn.metrics import r2_score\n",
        "r2_score(y_true = y, y_pred = y_pred)"
      ],
      "metadata": {
        "execution": {
          "iopub.status.busy": "2023-08-29T14:22:11.44404Z",
          "iopub.execute_input": "2023-08-29T14:22:11.44461Z",
          "iopub.status.idle": "2023-08-29T14:22:11.480063Z",
          "shell.execute_reply.started": "2023-08-29T14:22:11.444563Z",
          "shell.execute_reply": "2023-08-29T14:22:11.478623Z"
        },
        "trusted": true,
        "id": "TPGTT6LEL4t2"
      },
      "execution_count": null,
      "outputs": []
    },
    {
      "cell_type": "code",
      "source": [
        "#buliding ML model using MLPRegressor            used data points (25703)\n",
        "\n",
        "from sklearn.neural_network import MLPRegressor\n",
        "\n",
        "X= df_train.iloc[:,1:]\n",
        "y = df_train.iloc[:,1:]\n",
        "\n",
        "X = X.drop([\"MA_X-4\", \"T2M_toc\", \"week_X-4\", \"week_X-3\",'holiday','Holiday_ID'],axis=1) #droping the features that have high VIF values (>5)\n",
        "y =y.drop([\"MA_X-4\", \"T2M_toc\", \"week_X-4\", \"week_X-3\",'holiday','Holiday_ID'],axis=1)\n",
        "\n",
        "mlp = MLPRegressor(hidden_layer_sizes=(7),\n",
        "                    random_state=4,\n",
        "                    verbose= True,\n",
        "                    activation= 'relu',\n",
        "                    learning_rate_init=0.01)\n",
        "\n",
        "\n",
        "mlp.fit(X,y)"
      ],
      "metadata": {
        "execution": {
          "iopub.status.busy": "2023-08-29T14:22:14.267627Z",
          "iopub.execute_input": "2023-08-29T14:22:14.268318Z",
          "iopub.status.idle": "2023-08-29T14:22:17.0024Z",
          "shell.execute_reply.started": "2023-08-29T14:22:14.268283Z",
          "shell.execute_reply": "2023-08-29T14:22:17.000656Z"
        },
        "trusted": true,
        "id": "_tI7w3G4L4t2"
      },
      "execution_count": null,
      "outputs": []
    },
    {
      "cell_type": "code",
      "source": [
        "import matplotlib.pyplot as plt\n",
        "import numpy as np\n",
        "import csv\n",
        "\n",
        "X= df_train.iloc[:,1:]\n",
        "y = df_train.iloc[:,1:]\n",
        "X = X.drop([\"MA_X-4\", \"T2M_toc\", \"week_X-4\", \"week_X-3\",'holiday','Holiday_ID'],axis=1)\n",
        "y =y.drop([\"MA_X-4\", \"T2M_toc\", \"week_X-4\", \"week_X-3\",'holiday','Holiday_ID'],axis=1)\n",
        "plt.scatter(X,y,color = 'red')\n",
        "plt.plot(X,mlp.predict(X),color = 'blue')\n",
        "plt.title(\"Regression using MLP model\")\n",
        "plt.xlabel(\"\")\n",
        "plt.ylabel('')\n",
        "plt.show()"
      ],
      "metadata": {
        "execution": {
          "iopub.status.busy": "2023-08-29T14:22:52.256762Z",
          "iopub.execute_input": "2023-08-29T14:22:52.257168Z",
          "iopub.status.idle": "2023-08-29T14:22:52.797438Z",
          "shell.execute_reply.started": "2023-08-29T14:22:52.257139Z",
          "shell.execute_reply": "2023-08-29T14:22:52.796213Z"
        },
        "trusted": true,
        "id": "I83HfPoCL4t3"
      },
      "execution_count": null,
      "outputs": []
    },
    {
      "cell_type": "code",
      "source": [
        "#### testing the testing set with model developed using  \"\"MLPRegressor\"\"\n",
        "\n",
        "test = df_test\n",
        "X_new = test.iloc[:,1:]\n",
        "X_new = X_new.drop([\"MA_X-4\", \"T2M_toc\", \"week_X-4\", \"week_X-3\",'holiday','Holiday_ID'],axis =1)\n",
        "y_pred = mlp.predict(X_new)\n",
        "y_pred\n",
        "y = test.iloc[:,1:]\n",
        "y = y.drop([\"MA_X-4\", \"T2M_toc\", \"week_X-4\", \"week_X-3\",'holiday','Holiday_ID'],axis =1)\n",
        "\n",
        "from sklearn.metrics import r2_score\n",
        "r2_score(y_true = y, y_pred = y_pred)"
      ],
      "metadata": {
        "execution": {
          "iopub.status.busy": "2023-08-29T14:23:09.566641Z",
          "iopub.execute_input": "2023-08-29T14:23:09.567164Z",
          "iopub.status.idle": "2023-08-29T14:23:09.603724Z",
          "shell.execute_reply.started": "2023-08-29T14:23:09.567128Z",
          "shell.execute_reply": "2023-08-29T14:23:09.602371Z"
        },
        "trusted": true,
        "id": "5QCkYZLsL4t3"
      },
      "execution_count": null,
      "outputs": []
    },
    {
      "cell_type": "code",
      "source": [
        "X= df_train.iloc[:,1:]\n",
        "y = df_train.iloc[:,1:]\n",
        "X = X.drop([\"MA_X-4\", \"T2M_toc\", \"week_X-4\", \"week_X-3\",'holiday','Holiday_ID'],axis=1)\n",
        "y =y.drop([\"MA_X-4\", \"T2M_toc\", \"week_X-4\", \"week_X-3\",'holiday','Holiday_ID'],axis=1)\n"
      ],
      "metadata": {
        "execution": {
          "iopub.status.busy": "2023-08-29T14:23:24.770515Z",
          "iopub.execute_input": "2023-08-29T14:23:24.771087Z",
          "iopub.status.idle": "2023-08-29T14:23:24.782302Z",
          "shell.execute_reply.started": "2023-08-29T14:23:24.771038Z",
          "shell.execute_reply": "2023-08-29T14:23:24.780957Z"
        },
        "trusted": true,
        "id": "JeF5Kg_cL4t3"
      },
      "execution_count": null,
      "outputs": []
    },
    {
      "cell_type": "code",
      "source": [
        "###       testing the model built using  \"\"DessionTreeRegression\"\"  on testdata set\n",
        "\n",
        "\n",
        "import pandas as pd\n",
        "\n",
        "test = df_test\n",
        "X_new = test.iloc[:,1:]\n",
        "X_new = X_new.drop([\"MA_X-4\", \"T2M_toc\", \"week_X-4\", \"week_X-3\",'holiday','Holiday_ID'],axis =1)\n",
        "y_pred = regressor.predict(X_new)\n",
        "y_pred\n",
        "y = test.iloc[:,1:]\n",
        "y = y.drop([\"MA_X-4\", \"T2M_toc\", \"week_X-4\", \"week_X-3\",'holiday','Holiday_ID'],axis =1)\n",
        "\n",
        "from sklearn.metrics import r2_score\n",
        "r2_score(y_true = y, y_pred = y_pred)\n"
      ],
      "metadata": {
        "execution": {
          "iopub.status.busy": "2023-08-29T14:23:35.63724Z",
          "iopub.execute_input": "2023-08-29T14:23:35.637685Z",
          "iopub.status.idle": "2023-08-29T14:23:35.666281Z",
          "shell.execute_reply.started": "2023-08-29T14:23:35.637639Z",
          "shell.execute_reply": "2023-08-29T14:23:35.664796Z"
        },
        "trusted": true,
        "id": "ztvwkSSGL4t3"
      },
      "execution_count": null,
      "outputs": []
    },
    {
      "cell_type": "code",
      "source": [
        "#### testing the testing set with model developed using  \"\"MLPRegressor\"\"\n",
        "\n",
        "test = df_test\n",
        "X_new = test.iloc[:,1:]\n",
        "X_new = X_new.drop([\"MA_X-4\", \"T2M_toc\", \"week_X-4\", \"week_X-3\",'holiday','Holiday_ID'],axis =1)\n",
        "y_pred = mlp.predict(X_new)\n",
        "y_pred\n",
        "y = test.iloc[:,1:]\n",
        "y = y.drop([\"MA_X-4\", \"T2M_toc\", \"week_X-4\", \"week_X-3\",'holiday','Holiday_ID'],axis =1)\n",
        "\n",
        "from sklearn.metrics import r2_score\n",
        "r2_score(y_true = y, y_pred = y_pred)"
      ],
      "metadata": {
        "execution": {
          "iopub.status.busy": "2023-08-29T14:23:51.424316Z",
          "iopub.execute_input": "2023-08-29T14:23:51.42485Z",
          "iopub.status.idle": "2023-08-29T14:23:51.486197Z",
          "shell.execute_reply.started": "2023-08-29T14:23:51.424809Z",
          "shell.execute_reply": "2023-08-29T14:23:51.483423Z"
        },
        "trusted": true,
        "id": "fH6-YYMVL4t3"
      },
      "execution_count": null,
      "outputs": []
    },
    {
      "cell_type": "markdown",
      "source": [],
      "metadata": {
        "id": "jjOa1BQgL4t3"
      }
    },
    {
      "cell_type": "code",
      "source": [
        "###       testing the model built using  \"\"DessionTreeRegression\"\"  on 2nd set of test data set\n",
        "\n",
        "\n",
        "import pandas as pd\n",
        "\n",
        "test = pd.read_csv('/kaggle/input/electricity-usage-info-for-a-house-hold/test_dataframes.csv')\n",
        "X_new = test.iloc[:,1:]\n",
        "X_new = X_new.drop([\"MA_X-4\", \"T2M_toc\", \"week_X-4\", \"week_X-3\",'holiday','Holiday_ID'],axis =1)\n",
        "y_pred = regressor.predict(X_new)\n",
        "y_pred\n",
        "y = test.iloc[:,1:]\n",
        "y = y.drop([\"MA_X-4\", \"T2M_toc\", \"week_X-4\", \"week_X-3\",'holiday','Holiday_ID'],axis =1)\n",
        "\n",
        "from sklearn.metrics import r2_score\n",
        "r2_score(y_true = y, y_pred = y_pred)\n"
      ],
      "metadata": {
        "execution": {
          "iopub.status.busy": "2023-08-29T14:24:29.306849Z",
          "iopub.execute_input": "2023-08-29T14:24:29.307326Z",
          "iopub.status.idle": "2023-08-29T14:24:29.333075Z",
          "shell.execute_reply.started": "2023-08-29T14:24:29.307289Z",
          "shell.execute_reply": "2023-08-29T14:24:29.331727Z"
        },
        "trusted": true,
        "id": "tMVxIU7gL4t3"
      },
      "execution_count": null,
      "outputs": []
    },
    {
      "cell_type": "code",
      "source": [
        "##     testing the model built using \"\"MLPRegressor\"\"  on secound set of test data\n",
        "\n",
        "import pandas as pd\n",
        "\n",
        "test = pd.read_csv('/kaggle/input/electricity-usage-info-for-a-house-hold/test_dataframes.csv')\n",
        "X_new = test.iloc[:,1:]\n",
        "X_new = X_new.drop([\"MA_X-4\", \"T2M_toc\", \"week_X-4\", \"week_X-3\",'holiday','Holiday_ID'],axis =1)\n",
        "y_pred = mlp.predict(X_new)\n",
        "y_pred\n",
        "y = test.iloc[:,1:]\n",
        "y = y.drop([\"MA_X-4\", \"T2M_toc\", \"week_X-4\", \"week_X-3\",'holiday','Holiday_ID'],axis =1)\n",
        "\n",
        "from sklearn.metrics import r2_score\n",
        "r2_score(y_true = y, y_pred = y_pred)\n"
      ],
      "metadata": {
        "execution": {
          "iopub.status.busy": "2023-08-29T14:25:24.084659Z",
          "iopub.execute_input": "2023-08-29T14:25:24.085061Z",
          "iopub.status.idle": "2023-08-29T14:25:24.108155Z",
          "shell.execute_reply.started": "2023-08-29T14:25:24.085031Z",
          "shell.execute_reply": "2023-08-29T14:25:24.107041Z"
        },
        "trusted": true,
        "id": "DaTjZMqsL4t3"
      },
      "execution_count": null,
      "outputs": []
    }
  ]
}